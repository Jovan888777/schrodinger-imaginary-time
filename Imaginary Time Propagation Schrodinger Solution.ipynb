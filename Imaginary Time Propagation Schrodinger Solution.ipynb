{
 "cells": [
  {
   "cell_type": "code",
   "execution_count": 1,
   "metadata": {},
   "outputs": [
    {
     "data": {
      "image/png": "[encoded data removed]",
      "text/plain": [
       "<Figure size 640x480 with 1 Axes>"
      ]
     },
     "metadata": {},
     "output_type": "display_data"
    }
   ],
   "source": [
    "import numpy as np\n",
    "import matplotlib.pyplot as plt\n",
    "import math\n",
    "\n",
    "# defining time and space coordinates\n",
    "t=np.linspace(0,10,100)\n",
    "dt=t[2]-t[1]\n",
    "r=np.linspace(0,10,100)\n",
    "dr=r[2]-r[1]\n",
    "\n",
    "# defining constants that appear in the Schrodinger eqn\n",
    "hbar=1\n",
    "m=1\n",
    "c1=hbar/dt\n",
    "c2=(hbar**2)/(m*dr*dr)\n",
    "\n",
    "#defining a potential the Schrodinger equation will fight with\n",
    "v=np.zeros((100,100))\n",
    "\n",
    "# Initializing wavefunction as random space-time matrix at moment 0. It collapes to a valid solution after iteration\n",
    "psi=np.zeros((100,100))\n",
    "psi0=5 + np.random.rand(100,1)\n",
    "psi[:,0]=psi0[:,0]\n",
    "psi[0,0]=0\n",
    "psi[99,0]=0\n",
    "\n",
    "# Initializing helper wavefunction that will determine normalization constant in each step\n",
    "psiint=np.zeros(100)\n",
    "\n",
    "#Bulk of simulation: iterates over known time moment into the next, always normalizing. The TDSE is solved numerically\n",
    "for j in range(1,98):\n",
    "    for i in range(1,99):\n",
    "        for m in range(0,100):\n",
    "            psiint[m]=psi[m,j-1]\n",
    "        psiint=psiint*psiint\n",
    "        psiint=psiint*dr\n",
    "        integral=np.sum(psiint)\n",
    "        k=1/math.sqrt(integral)\n",
    "        for l in range(0,99):\n",
    "            psi[l,j-1]=psi[l,j-1]*k\n",
    "        psi[i,j]=(c1*psi[i-1,j]+c2/2*(psi[i-1,j-1]+psi[i-1,j+1]-2*psi[i-1,j]))/(c1+v[i,j])\n",
    "\n",
    "#Extracting solution by using some arbitrary wavefunction at a much later moment than starting.\n",
    "psirand=np.zeros(100)\n",
    "for i in range(0,99):\n",
    "    psirand[i]=psi[i,90]\n",
    "\n",
    "plt.figure()\n",
    "plt.plot(r,psirand)\n",
    "plt.show()"
   ]
  },
  {
   "cell_type": "code",
   "execution_count": null,
   "metadata": {},
   "outputs": [],
   "source": []
  }
 ],
 "metadata": {
  "kernelspec": {
   "display_name": "Python 3 (ipykernel)",
   "language": "python",
   "name": "python3"
  },
  "language_info": {
   "codemirror_mode": {
    "name": "ipython",
    "version": 3
   },
   "file_extension": ".py",
   "mimetype": "text/x-python",
   "name": "python",
   "nbconvert_exporter": "python",
   "pygments_lexer": "ipython3",
   "version": "3.9.13"
  }
 },
 "nbformat": 4,
 "nbformat_minor": 2
}
